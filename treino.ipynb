{
 "cells": [
  {
   "cell_type": "code",
   "execution_count": 1,
   "source": [
    "import pandas as pd\n",
    "\n",
    "\n",
    "def importar():\n",
    "    \"\"\"importa os dados necessários e devolve dois dados: tabela da malária e dados dos municípios\n",
    "    arg: nenhum\n",
    "    retunr: df =  tabela pandas para base de dados e municipios = tabela pandas dos municipios e da população por ano.\"\"\"\n",
    "    df = pd.read_pickle(\"dados\\Dados_utilizaveis\")\n",
    "    # criar coluna com dados de casos confirmados como 1, outros resultados como 0\n",
    "    df[\"detection.numerico\"] = df[\"detection.type\"].map(\n",
    "        {\"active\": 1, \"passive\": 0, \"CVL\": 0}\n",
    "    )\n",
    "    municipio = pd.read_pickle(\"dados\\municipio\")\n",
    "    municipio[\"id_municipio\"] = (\n",
    "        municipio[\"id_municipio\"] // 10\n",
    "    )  # Tirado ultimo digito do ID para facilitar seu uso, pois não possue diferencia retirar esse digito para o uso final.\n",
    "    municipios_localizacao = pd.read_csv(\n",
    "        \"dados\\municipios_latitude_longitude.csv\"\n",
    "    )  # importar dados de latitudes e longitudes por município\n",
    "    municipios_localizacao[\"codigo_ibge\"] = (\n",
    "        municipios_localizacao[\"codigo_ibge\"] // 10\n",
    "    )  # Tirado ultimo digito do ID para facilitar seu uso, pois não possue diferencia retirar esse digito para o uso final.\n",
    "    return df, municipio, municipios_localizacao\n"
   ],
   "outputs": [],
   "metadata": {}
  },
  {
   "cell_type": "code",
   "execution_count": 2,
   "source": [
    "# criar coluna com ocupação\n",
    "def populacao(dados, municipio_dados):\n",
    "    \"\"\"Devolve uma lista de dados com a população de cada linha, baseado nos municipios e ano\n",
    "    Arg: dados de casos e dados dos municipios\n",
    "    return: lista de população\"\"\"\n",
    "    lista_populacao = []\n",
    "    ano_anterior = 1\n",
    "    municipio_code_anterio = 1\n",
    "    for i in range(len(dados)):\n",
    "        ano_novo = int(dados.loc[i, \"data\"].year)\n",
    "        municipio_code_novo = int(dados.loc[i, \"infection.county\"])\n",
    "        if (ano_anterior != ano_novo) or (\n",
    "            municipio_code_anterio != municipio_code_novo\n",
    "        ):\n",
    "            logic1 = municipio_dados[\"ano\"] == ano_novo\n",
    "            logic2 = municipio_dados[\"id_municipio\"] == municipio_code_novo\n",
    "            populacao_numero = int(municipio_dados.loc[logic1 & logic2][\"populacao\"])\n",
    "            ano_anterior = ano_novo\n",
    "            municipio_code_anterio = municipio_code_novo\n",
    "        lista_populacao.append(populacao_numero)\n",
    "    return lista_populacao\n"
   ],
   "outputs": [],
   "metadata": {}
  },
  {
   "cell_type": "code",
   "execution_count": 3,
   "source": [
    "def localizacao(dados, municipio_localizacao):\n",
    "    \"\"\"Devolve duas lista de dados com a latitude e longitude respectivamente de cada linha, baseado nos municipios\n",
    "    Arg: dados de casos e dados dos municipios\n",
    "    return: lista de latitude e lista de longitude\"\"\"\n",
    "    lista_latitude = []\n",
    "    lista_longitude = []\n",
    "    municipio_code_anterio = 1\n",
    "    for i in range(len(dados)):\n",
    "        municipio_code_novo = int(dados.loc[i, \"infection.county\"])\n",
    "        if municipio_code_anterio != municipio_code_novo:\n",
    "            logic1 = municipio_localizacao[\"codigo_ibge\"] == municipio_code_novo\n",
    "            latitude_numero = float(municipio_localizacao.loc[logic1][\"latitude\"])\n",
    "            longitude_numero = float(municipio_localizacao.loc[logic1][\"longitude\"])\n",
    "            municipio_code_anterio = municipio_code_novo\n",
    "        lista_latitude.append(latitude_numero)\n",
    "        lista_longitude.append(longitude_numero)\n",
    "    return lista_latitude, lista_longitude\n"
   ],
   "outputs": [],
   "metadata": {}
  },
  {
   "cell_type": "code",
   "execution_count": 4,
   "source": [
    "from sklearn.preprocessing import OneHotEncoder\n",
    "from seaborn import load_dataset\n",
    "\n",
    "\n",
    "def onehot_encoder(dados, coluna):\n",
    "    \"\"\"Faz o onehot para a coluna espeficidade dentro de um dataframe.\n",
    "    arg: dados e nome da coluna\n",
    "    return matrix numpy do onehot da coluna\"\"\"\n",
    "    df = dados[[coluna]]\n",
    "    ohe = OneHotEncoder()\n",
    "    transformed = ohe.fit_transform(df)\n",
    "    merge = transformed.toarray()\n",
    "    return merge"
   ],
   "outputs": [],
   "metadata": {}
  },
  {
   "cell_type": "code",
   "execution_count": 5,
   "source": [
    "import numpy as np\n",
    "\n",
    "df, municipio_dados, municipio_localizacao = importar()\n",
    "# Apagar dados de 2009\n",
    "logic2009 = df[\"notification.year\"] != 2009\n",
    "df = df.loc[logic2009]\n",
    "# renomear colunas\n",
    "df.rename(\n",
    "    columns={\"notification.year\": \"year\", \"notification.month\": \"month\"}, inplace=True\n",
    ")\n",
    "# criar coluna de dias\n",
    "df[\"day\"] = np.ones(len(df))\n",
    "# criar coluna de datas e deletar colunas de mes, ano e dias\n",
    "df[\"data\"] = pd.to_datetime(df[[\"year\", \"month\", \"day\"]])\n",
    "df = df.drop(columns=[\"month\", \"year\", \"day\"])\n",
    "# criar dados trimestrais\n",
    "dados_finais = df.groupby(\n",
    "    [pd.Grouper(key=\"data\", freq=\"Q\"), \"infection.county\", \"occupation\"]\n",
    ").sum()\n",
    "# separar dados por mes\n",
    "# dados_finais = df.groupby([\"data\",\"infection.county\", \"occupation\"]).sum()\n",
    "# apagar dados com somatoria da detecção igual a 0\n",
    "logic1 = dados_finais[\"detection.numerico\"] > 0\n",
    "dados_finais = dados_finais.loc[logic1].reset_index()\n",
    "# Descobrir população de cada municipio por ano\n",
    "dados_finais[\"populacao\"] = populacao(dados_finais, municipio_dados)\n",
    "dados_finais[\"probabilidade\"] = (\n",
    "    dados_finais[\"detection.numerico\"] / dados_finais[\"populacao\"] * 100\n",
    ")\n",
    "latitude, longitude = localizacao(dados_finais, municipio_localizacao)\n",
    "dados_finais[\"latitude\"] = latitude\n",
    "dados_finais[\"longitude\"] = longitude\n",
    "# Onehot Encoder para a coluna occupation\n",
    "matrix_onehot = onehot_encoder(dados_finais, \"occupation\")\n",
    "dados_finais = pd.concat(\n",
    "    [\n",
    "        dados_finais,\n",
    "        pd.DataFrame(\n",
    "            matrix_onehot, columns=sorted(list(dados_finais[\"occupation\"].unique()))\n",
    "        ),\n",
    "    ],\n",
    "    axis=1,\n",
    ")\n"
   ],
   "outputs": [],
   "metadata": {}
  },
  {
   "cell_type": "markdown",
   "source": [
    "## Separar dados em teste e treino"
   ],
   "metadata": {}
  },
  {
   "cell_type": "code",
   "execution_count": 6,
   "source": [
    "from sklearn.model_selection import train_test_split\r\n",
    "\r\n",
    "TAMANHO_TESTE = 0.05\r\n",
    "\r\n",
    "indices = dados_finais.index\r\n",
    "indices_treino, indices_teste = train_test_split(\r\n",
    "    indices, test_size=TAMANHO_TESTE, random_state=41\r\n",
    ")\r\n",
    "\r\n",
    "df_treino = dados_finais.loc[indices_treino]\r\n",
    "df_teste = dados_finais.loc[indices_teste]\r\n",
    "\r\n",
    "print(df_treino)\r\n",
    "print()\r\n",
    "print(df_teste)\r\n"
   ],
   "outputs": [
    {
     "output_type": "stream",
     "name": "stdout",
     "text": [
      "            data  infection.county         occupation  detection.numerico  \\\n",
      "4823  2011-09-30          110080.0            grazing                  17   \n",
      "13342 2015-03-31          120042.0              other                 151   \n",
      "4906  2011-09-30          130002.0  road construction                   2   \n",
      "13409 2015-03-31          130140.0        agriculture                  33   \n",
      "19880 2018-06-30          140045.0    domestic worker                 123   \n",
      "...          ...               ...                ...                 ...   \n",
      "8513  2012-12-31          110110.0            panning                   4   \n",
      "21584 2019-03-31          140017.0             mining                   1   \n",
      "20450 2018-09-30          140020.0        agriculture                  69   \n",
      "931   2010-06-30          120020.0    domestic worker                  83   \n",
      "1984  2010-09-30          130270.0        agriculture                  24   \n",
      "\n",
      "       populacao  probabilidade  latitude  longitude  agriculture  \\\n",
      "4823       20292       0.083777  -8.79070   -63.7005          0.0   \n",
      "13342      16974       0.889596  -7.73864   -72.6610          0.0   \n",
      "4906       14237       0.014048  -3.22727   -64.8007          0.0   \n",
      "13409      34025       0.096988  -6.65677   -69.8662          1.0   \n",
      "19880      15580       0.789474   4.47990   -61.1477          0.0   \n",
      "...          ...            ...       ...        ...          ...   \n",
      "8513        8830       0.045300  -9.19687   -63.1809          0.0   \n",
      "21584      18335       0.005454   2.60994   -60.6058          0.0   \n",
      "20450      21564       0.319978   1.82766   -61.1304          1.0   \n",
      "931        78507       0.105723  -7.62762   -72.6756          0.0   \n",
      "1984       47017       0.051045  -5.80462   -61.2895          1.0   \n",
      "\n",
      "       domestic worker  grazing  hunting and fishing  ignored  mining  other  \\\n",
      "4823               0.0      1.0                  0.0      0.0     0.0    0.0   \n",
      "13342              0.0      0.0                  0.0      0.0     0.0    1.0   \n",
      "4906               0.0      0.0                  0.0      0.0     0.0    0.0   \n",
      "13409              0.0      0.0                  0.0      0.0     0.0    0.0   \n",
      "19880              1.0      0.0                  0.0      0.0     0.0    0.0   \n",
      "...                ...      ...                  ...      ...     ...    ...   \n",
      "8513               0.0      0.0                  0.0      0.0     0.0    0.0   \n",
      "21584              0.0      0.0                  0.0      0.0     1.0    0.0   \n",
      "20450              0.0      0.0                  0.0      0.0     0.0    0.0   \n",
      "931                1.0      0.0                  0.0      0.0     0.0    0.0   \n",
      "1984               0.0      0.0                  0.0      0.0     0.0    0.0   \n",
      "\n",
      "       panning  road construction  tourism  traveler  vegetal exploitation  \n",
      "4823       0.0                0.0      0.0       0.0                   0.0  \n",
      "13342      0.0                0.0      0.0       0.0                   0.0  \n",
      "4906       0.0                1.0      0.0       0.0                   0.0  \n",
      "13409      0.0                0.0      0.0       0.0                   0.0  \n",
      "19880      0.0                0.0      0.0       0.0                   0.0  \n",
      "...        ...                ...      ...       ...                   ...  \n",
      "8513       1.0                0.0      0.0       0.0                   0.0  \n",
      "21584      0.0                0.0      0.0       0.0                   0.0  \n",
      "20450      0.0                0.0      0.0       0.0                   0.0  \n",
      "931        0.0                0.0      0.0       0.0                   0.0  \n",
      "1984       0.0                0.0      0.0       0.0                   0.0  \n",
      "\n",
      "[22354 rows x 20 columns]\n",
      "\n",
      "            data  infection.county occupation  detection.numerico  populacao  \\\n",
      "18199 2017-09-30          140050.0      other                   4       7740   \n",
      "22164 2019-06-30          140005.0     mining                   1      15510   \n",
      "12707 2014-09-30          150040.0      other                   7      54353   \n",
      "3013  2010-12-31          150080.0      other                   2     471980   \n",
      "9391  2013-03-31          140010.0    tourism                   1     308996   \n",
      "...          ...               ...        ...                 ...        ...   \n",
      "2338  2010-09-30          150309.0      other                 238      30436   \n",
      "4180  2011-06-30          120080.0      other                   1      15213   \n",
      "17166 2017-03-31          140047.0    grazing                   1      28215   \n",
      "5364  2011-09-30          150195.0   traveler                   1      27332   \n",
      "10169 2013-06-30          150400.0      other                   1      26542   \n",
      "\n",
      "       probabilidade  latitude  longitude  agriculture  domestic worker  \\\n",
      "18199       0.051680  0.951659   -59.9133          0.0              0.0   \n",
      "22164       0.006447  2.988580   -61.3072          0.0              0.0   \n",
      "12707       0.012879 -1.946230   -54.7384          0.0              0.0   \n",
      "3013        0.000424 -1.363910   -48.3743          0.0              0.0   \n",
      "9391        0.000324  2.823840   -60.6753          0.0              0.0   \n",
      "...              ...       ...        ...          ...              ...   \n",
      "2338        0.781969 -3.843380   -49.0974          0.0              0.0   \n",
      "4180        0.006573 -9.581380   -67.5478          0.0              0.0   \n",
      "17166       0.003544  0.939956   -60.4389          0.0              0.0   \n",
      "5364        0.003659 -1.759740   -46.5459          0.0              0.0   \n",
      "10169       0.003768 -1.898500   -49.3903          0.0              0.0   \n",
      "\n",
      "       grazing  hunting and fishing  ignored  mining  other  panning  \\\n",
      "18199      0.0                  0.0      0.0     0.0    1.0      0.0   \n",
      "22164      0.0                  0.0      0.0     1.0    0.0      0.0   \n",
      "12707      0.0                  0.0      0.0     0.0    1.0      0.0   \n",
      "3013       0.0                  0.0      0.0     0.0    1.0      0.0   \n",
      "9391       0.0                  0.0      0.0     0.0    0.0      0.0   \n",
      "...        ...                  ...      ...     ...    ...      ...   \n",
      "2338       0.0                  0.0      0.0     0.0    1.0      0.0   \n",
      "4180       0.0                  0.0      0.0     0.0    1.0      0.0   \n",
      "17166      1.0                  0.0      0.0     0.0    0.0      0.0   \n",
      "5364       0.0                  0.0      0.0     0.0    0.0      0.0   \n",
      "10169      0.0                  0.0      0.0     0.0    1.0      0.0   \n",
      "\n",
      "       road construction  tourism  traveler  vegetal exploitation  \n",
      "18199                0.0      0.0       0.0                   0.0  \n",
      "22164                0.0      0.0       0.0                   0.0  \n",
      "12707                0.0      0.0       0.0                   0.0  \n",
      "3013                 0.0      0.0       0.0                   0.0  \n",
      "9391                 0.0      1.0       0.0                   0.0  \n",
      "...                  ...      ...       ...                   ...  \n",
      "2338                 0.0      0.0       0.0                   0.0  \n",
      "4180                 0.0      0.0       0.0                   0.0  \n",
      "17166                0.0      0.0       0.0                   0.0  \n",
      "5364                 0.0      0.0       1.0                   0.0  \n",
      "10169                0.0      0.0       0.0                   0.0  \n",
      "\n",
      "[1177 rows x 20 columns]\n"
     ]
    }
   ],
   "metadata": {}
  },
  {
   "cell_type": "markdown",
   "source": [
    "\n",
    "## Separando X (Features) e Y (target) dos dados"
   ],
   "metadata": {}
  },
  {
   "cell_type": "code",
   "execution_count": 7,
   "source": [
    "import seaborn as sns\r\n",
    "from sklearn.model_selection import train_test_split\r\n",
    "FEATURES = [ \"populacao\", \"latitude\", \"longitude\", \"agriculture\", \"domestic worker\", \"grazing\", \"hunting and fishing\", \"ignored\", \"mining\", \"other\", \"panning\", \"road construction\", \"tourism\", \"traveler\", \"vegetal exploitation\"]\r\n",
    "TARGET = [\"probabilidade\"]\r\n",
    "\r\n",
    "# observe que usamos o .values aqui pois queremos apenas os valores\r\n",
    "X_treino = df_treino.reindex(FEATURES, axis=1).values\r\n",
    "y_treino = df_treino.reindex(TARGET, axis=1).values\r\n",
    "X_teste = df_teste.reindex(FEATURES, axis=1).values\r\n",
    "y_teste = df_teste.reindex(TARGET, axis=1).values"
   ],
   "outputs": [],
   "metadata": {}
  },
  {
   "cell_type": "markdown",
   "source": [
    "## Baseline\n",
    "Treinando o modelo"
   ],
   "metadata": {}
  },
  {
   "cell_type": "code",
   "execution_count": 8,
   "source": [
    "from sklearn.dummy import DummyRegressor\r\n",
    "\r\n",
    "# cria o modelo\r\n",
    "modelo_baseline = DummyRegressor()\r\n",
    "\r\n",
    "# treina o modelo\r\n",
    "modelo_baseline.fit(X_treino, y_treino)\r\n",
    "\r\n",
    "# realiza uma previsão usando o modelo treinado\r\n",
    "previsao = modelo_baseline.predict(X_teste)\r\n",
    "print(previsao)"
   ],
   "outputs": [
    {
     "output_type": "stream",
     "name": "stdout",
     "text": [
      "[0.15234889 0.15234889 0.15234889 ... 0.15234889 0.15234889 0.15234889]\n"
     ]
    }
   ],
   "metadata": {}
  },
  {
   "cell_type": "markdown",
   "source": [
    "Testando o modelo"
   ],
   "metadata": {}
  },
  {
   "cell_type": "code",
   "execution_count": 9,
   "source": [
    "from sklearn.metrics import mean_squared_error, max_error\r\n",
    "from math import sqrt\r\n",
    "y_verdadeiro = y_teste\r\n",
    "y_previsao = modelo_baseline.predict(X_teste)\r\n",
    "\r\n",
    "RMSE = mean_squared_error(y_verdadeiro, y_previsao, squared=False)\r\n",
    "RRMSE = RMSE/sqrt(sum(y_previsao**2))\r\n",
    "erro_maximo = max_error(y_verdadeiro, y_previsao)\r\n",
    "print(f\"O RRMSE do modelo baseline foi de {RRMSE} e o erro maximo foi {erro_maximo}.\")"
   ],
   "outputs": [
    {
     "output_type": "stream",
     "name": "stdout",
     "text": [
      "O RRMSE do modelo baseline foi de 0.07166867434495375 e o erro maximo foi 4.326349984567587.\n"
     ]
    }
   ],
   "metadata": {}
  },
  {
   "cell_type": "markdown",
   "source": [
    "## Modelo linear\r\n",
    "Treinando modelo sem normalização de dados"
   ],
   "metadata": {}
  },
  {
   "cell_type": "code",
   "execution_count": 10,
   "source": [
    "import seaborn as sns\r\n",
    "from sklearn.model_selection import train_test_split\r\n",
    "FEATURES = [ \"populacao\", \"latitude\", \"longitude\", \"agriculture\", \"domestic worker\", \"grazing\", \"hunting and fishing\", \"ignored\", \"mining\", \"other\", \"panning\", \"road construction\", \"tourism\", \"traveler\", \"vegetal exploitation\"]\r\n",
    "TARGET = [\"probabilidade\"]\r\n",
    "\r\n",
    "# Aqui usamos values aqui pois queremos apenas os valores\r\n",
    "X_treino = df_treino.reindex(FEATURES, axis=1).values\r\n",
    "y_treino = df_treino.reindex(TARGET, axis=1).values\r\n",
    "X_teste = df_teste.reindex(FEATURES, axis=1).values\r\n",
    "y_teste = df_teste.reindex(TARGET, axis=1).values"
   ],
   "outputs": [],
   "metadata": {}
  },
  {
   "cell_type": "code",
   "execution_count": 11,
   "source": [
    "from sklearn.linear_model import LinearRegression\r\n",
    "\r\n",
    "# cria o modelo\r\n",
    "modelo_linear = LinearRegression()\r\n",
    "\r\n",
    "# treina o modelo\r\n",
    "modelo_linear.fit(X_treino, y_treino)\r\n",
    "\r\n",
    "# realiza uma previsão usando o modelo treinado\r\n",
    "previsao = modelo_linear.predict(X_teste)\r\n",
    "print(previsao)"
   ],
   "outputs": [
    {
     "output_type": "stream",
     "name": "stdout",
     "text": [
      "[[ 0.45134009]\n",
      " [ 0.10367297]\n",
      " [ 0.39039944]\n",
      " ...\n",
      " [ 0.05774722]\n",
      " [-0.05397413]\n",
      " [ 0.35909452]]\n"
     ]
    }
   ],
   "metadata": {}
  },
  {
   "cell_type": "code",
   "execution_count": 12,
   "source": [
    "from sklearn.metrics import mean_squared_error, max_error\r\n",
    "from math import sqrt\r\n",
    "y_verdadeiro = y_teste\r\n",
    "y_previsao = modelo_linear.predict(X_teste)\r\n",
    "\r\n",
    "RMSE = mean_squared_error(y_verdadeiro, y_previsao, squared=False)\r\n",
    "RRMSE = RMSE/sqrt(sum(y_previsao**2))\r\n",
    "erro_maximo = max_error(y_verdadeiro, y_previsao)\r\n",
    "print(f\"O RRMSE do modelo linear sem normalização foi de {RRMSE} e o erro maximo foi {erro_maximo}.\")"
   ],
   "outputs": [
    {
     "output_type": "stream",
     "name": "stdout",
     "text": [
      "O RRMSE do modelo linear sem normalização foi de 0.04838141552028543 e o erro maximo foi 4.103049528753299.\n"
     ]
    }
   ],
   "metadata": {}
  },
  {
   "cell_type": "markdown",
   "source": [
    "Treinando o modelo com normalização de dados"
   ],
   "metadata": {}
  },
  {
   "cell_type": "code",
   "execution_count": 13,
   "source": [
    "import seaborn as sns\r\n",
    "from sklearn.model_selection import train_test_split\r\n",
    "FEATURES = [ \"populacao\", \"latitude\", \"longitude\", \"agriculture\", \"domestic worker\", \"grazing\", \"hunting and fishing\", \"ignored\", \"mining\", \"other\", \"panning\", \"road construction\", \"tourism\", \"traveler\", \"vegetal exploitation\"]\r\n",
    "TARGET = [\"probabilidade\"]\r\n",
    "\r\n",
    "# observe que usamos o .values aqui pois queremos apenas os valores\r\n",
    "X_treino = df_treino.reindex(FEATURES, axis=1).values\r\n",
    "y_treino = df_treino.reindex(TARGET, axis=1).values\r\n",
    "X_teste = df_teste.reindex(FEATURES, axis=1).values\r\n",
    "y_teste = df_teste.reindex(TARGET, axis=1).values"
   ],
   "outputs": [],
   "metadata": {}
  },
  {
   "cell_type": "code",
   "execution_count": 14,
   "source": [
    "from sklearn.preprocessing import MinMaxScaler\r\n",
    "\r\n",
    "normalizador_x = MinMaxScaler()\r\n",
    "normalizador_y = MinMaxScaler()\r\n",
    "\r\n",
    "normalizador_x.fit(X_treino)\r\n",
    "normalizador_y.fit(y_treino)"
   ],
   "outputs": [
    {
     "output_type": "execute_result",
     "data": {
      "text/html": [
       "<style>#sk-container-id-1 {color: black;background-color: white;}#sk-container-id-1 pre{padding: 0;}#sk-container-id-1 div.sk-toggleable {background-color: white;}#sk-container-id-1 label.sk-toggleable__label {cursor: pointer;display: block;width: 100%;margin-bottom: 0;padding: 0.3em;box-sizing: border-box;text-align: center;}#sk-container-id-1 label.sk-toggleable__label-arrow:before {content: \"▸\";float: left;margin-right: 0.25em;color: #696969;}#sk-container-id-1 label.sk-toggleable__label-arrow:hover:before {color: black;}#sk-container-id-1 div.sk-estimator:hover label.sk-toggleable__label-arrow:before {color: black;}#sk-container-id-1 div.sk-toggleable__content {max-height: 0;max-width: 0;overflow: hidden;text-align: left;background-color: #f0f8ff;}#sk-container-id-1 div.sk-toggleable__content pre {margin: 0.2em;color: black;border-radius: 0.25em;background-color: #f0f8ff;}#sk-container-id-1 input.sk-toggleable__control:checked~div.sk-toggleable__content {max-height: 200px;max-width: 100%;overflow: auto;}#sk-container-id-1 input.sk-toggleable__control:checked~label.sk-toggleable__label-arrow:before {content: \"▾\";}#sk-container-id-1 div.sk-estimator input.sk-toggleable__control:checked~label.sk-toggleable__label {background-color: #d4ebff;}#sk-container-id-1 div.sk-label input.sk-toggleable__control:checked~label.sk-toggleable__label {background-color: #d4ebff;}#sk-container-id-1 input.sk-hidden--visually {border: 0;clip: rect(1px 1px 1px 1px);clip: rect(1px, 1px, 1px, 1px);height: 1px;margin: -1px;overflow: hidden;padding: 0;position: absolute;width: 1px;}#sk-container-id-1 div.sk-estimator {font-family: monospace;background-color: #f0f8ff;border: 1px dotted black;border-radius: 0.25em;box-sizing: border-box;margin-bottom: 0.5em;}#sk-container-id-1 div.sk-estimator:hover {background-color: #d4ebff;}#sk-container-id-1 div.sk-parallel-item::after {content: \"\";width: 100%;border-bottom: 1px solid gray;flex-grow: 1;}#sk-container-id-1 div.sk-label:hover label.sk-toggleable__label {background-color: #d4ebff;}#sk-container-id-1 div.sk-serial::before {content: \"\";position: absolute;border-left: 1px solid gray;box-sizing: border-box;top: 0;bottom: 0;left: 50%;z-index: 0;}#sk-container-id-1 div.sk-serial {display: flex;flex-direction: column;align-items: center;background-color: white;padding-right: 0.2em;padding-left: 0.2em;position: relative;}#sk-container-id-1 div.sk-item {position: relative;z-index: 1;}#sk-container-id-1 div.sk-parallel {display: flex;align-items: stretch;justify-content: center;background-color: white;position: relative;}#sk-container-id-1 div.sk-item::before, #sk-container-id-1 div.sk-parallel-item::before {content: \"\";position: absolute;border-left: 1px solid gray;box-sizing: border-box;top: 0;bottom: 0;left: 50%;z-index: -1;}#sk-container-id-1 div.sk-parallel-item {display: flex;flex-direction: column;z-index: 1;position: relative;background-color: white;}#sk-container-id-1 div.sk-parallel-item:first-child::after {align-self: flex-end;width: 50%;}#sk-container-id-1 div.sk-parallel-item:last-child::after {align-self: flex-start;width: 50%;}#sk-container-id-1 div.sk-parallel-item:only-child::after {width: 0;}#sk-container-id-1 div.sk-dashed-wrapped {border: 1px dashed gray;margin: 0 0.4em 0.5em 0.4em;box-sizing: border-box;padding-bottom: 0.4em;background-color: white;}#sk-container-id-1 div.sk-label label {font-family: monospace;font-weight: bold;display: inline-block;line-height: 1.2em;}#sk-container-id-1 div.sk-label-container {text-align: center;}#sk-container-id-1 div.sk-container {/* jupyter's `normalize.less` sets `[hidden] { display: none; }` but bootstrap.min.css set `[hidden] { display: none !important; }` so we also need the `!important` here to be able to override the default hidden behavior on the sphinx rendered scikit-learn.org. See: https://github.com/scikit-learn/scikit-learn/issues/21755 */display: inline-block !important;position: relative;}#sk-container-id-1 div.sk-text-repr-fallback {display: none;}</style><div id=\"sk-container-id-1\" class=\"sk-top-container\"><div class=\"sk-text-repr-fallback\"><pre>MinMaxScaler()</pre><b>In a Jupyter environment, please rerun this cell to show the HTML representation or trust the notebook. <br />On GitHub, the HTML representation is unable to render, please try loading this page with nbviewer.org.</b></div><div class=\"sk-container\" hidden><div class=\"sk-item\"><div class=\"sk-estimator sk-toggleable\"><input class=\"sk-toggleable__control sk-hidden--visually\" id=\"sk-estimator-id-1\" type=\"checkbox\" checked><label for=\"sk-estimator-id-1\" class=\"sk-toggleable__label sk-toggleable__label-arrow\">MinMaxScaler</label><div class=\"sk-toggleable__content\"><pre>MinMaxScaler()</pre></div></div></div></div></div>"
      ],
      "text/plain": [
       "MinMaxScaler()"
      ]
     },
     "metadata": {},
     "execution_count": 14
    }
   ],
   "metadata": {}
  },
  {
   "cell_type": "code",
   "execution_count": 15,
   "source": [
    "from sklearn.linear_model import LinearRegression\r\n",
    "\r\n",
    "# cria o modelo\r\n",
    "modelo_linear = LinearRegression()\r\n",
    "\r\n",
    "# treina o modelo\r\n",
    "modelo_linear.fit(\r\n",
    "    normalizador_x.transform(X_treino),\r\n",
    "    normalizador_y.transform(y_treino),\r\n",
    ")\r\n",
    "\r\n",
    "# realiza uma previsão usando o modelo treinado\r\n",
    "previsao = modelo_linear.predict(normalizador_x.transform(X_treino))\r\n",
    "previsao = normalizador_y.inverse_transform(previsao)\r\n",
    "print(previsao)"
   ],
   "outputs": [
    {
     "output_type": "stream",
     "name": "stdout",
     "text": [
      "[[-0.00572505]\n",
      " [ 0.45889328]\n",
      " [ 0.04828117]\n",
      " ...\n",
      " [ 0.24163165]\n",
      " [ 0.12702305]\n",
      " [ 0.17484534]]\n"
     ]
    }
   ],
   "metadata": {}
  },
  {
   "cell_type": "code",
   "execution_count": 16,
   "source": [
    "from sklearn.metrics import mean_squared_error\r\n",
    "from math import sqrt\r\n",
    "y_verdadeiro = y_teste\r\n",
    "y_previsao = modelo_linear.predict(normalizador_x.transform(X_teste))\r\n",
    "y_previsao = normalizador_y.inverse_transform(y_previsao)\r\n",
    "\r\n",
    "RMSE = mean_squared_error(y_verdadeiro, y_previsao, squared=False)\r\n",
    "RRMSE = RMSE/sqrt(sum(y_previsao**2))\r\n",
    "erro_maximo = max_error(y_verdadeiro, y_previsao)\r\n",
    "print(f\"O RRMSE do modelo linear com normalização foi de {RRMSE} e o erro maximo foi {erro_maximo}.\")"
   ],
   "outputs": [
    {
     "output_type": "stream",
     "name": "stdout",
     "text": [
      "O RRMSE do modelo linear com normalização foi de 0.04818143076422387 e o erro maximo foi 4.10019651780121.\n"
     ]
    }
   ],
   "metadata": {}
  },
  {
   "cell_type": "markdown",
   "source": [
    "As diferenças entre os modelos lineares com ou sem normalização são praticamente nulas.\r\n",
    "\r\n",
    "Os resultados sem normalização foram: 0.04838141552028543 e o erro maximo foi 4.103049528753299.\r\n",
    "\r\n",
    "Enquanto com normalização foram: 0.04818143076422387 e o erro maximo foi 4.10019651780121."
   ],
   "metadata": {}
  },
  {
   "cell_type": "markdown",
   "source": [
    "## K-nn vizinho\n",
    "Treinando modelo"
   ],
   "metadata": {}
  }
 ],
 "metadata": {
  "interpreter": {
   "hash": "bd6b61fcc9c7cb30e6a21d913054c5b6faf769326d87cb3c1675bda31ab4b410"
  },
  "kernelspec": {
   "name": "python3",
   "display_name": "Python 3.9.7 64-bit ('venv': venv)"
  },
  "language_info": {
   "codemirror_mode": {
    "name": "ipython",
    "version": 3
   },
   "file_extension": ".py",
   "mimetype": "text/x-python",
   "name": "python",
   "nbconvert_exporter": "python",
   "pygments_lexer": "ipython3",
   "version": "3.9.7"
  },
  "orig_nbformat": 4
 },
 "nbformat": 4,
 "nbformat_minor": 2
}