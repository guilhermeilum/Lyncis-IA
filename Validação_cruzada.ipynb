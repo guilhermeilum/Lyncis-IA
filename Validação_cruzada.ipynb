{
 "cells": [
  {
   "cell_type": "markdown",
   "metadata": {},
   "source": [
    "## Importando os dados que iremos utilizar\n"
   ]
  },
  {
   "cell_type": "code",
   "execution_count": 1,
   "metadata": {},
   "outputs": [],
   "source": [
    "import pandas as pd\n",
    "\n",
    "\n",
    "dados = pd.read_pickle(\"dados\\dados_tratados\")\n",
    "dados = dados.drop(\n",
    "    columns=[\"infection.county\", \"occupation\", \"data\", \"detection.numerico\"]\n",
    ")  # deletando dados que não vão ser utilizados\n",
    "dados = dados.reindex()  # apenas para ter certezar que os index estão corretos"
   ]
  },
  {
   "cell_type": "code",
   "execution_count": null,
   "metadata": {},
   "outputs": [],
   "source": []
  }
 ],
 "metadata": {
  "interpreter": {
   "hash": "651cf921594cc872740d54369b9cb1582fd25e8a92d4bf8c5e7d6e87a9f22611"
  },
  "kernelspec": {
   "display_name": "Python 3.9.7 ('venv': venv)",
   "language": "python",
   "name": "python3"
  },
  "language_info": {
   "codemirror_mode": {
    "name": "ipython",
    "version": 3
   },
   "file_extension": ".py",
   "mimetype": "text/x-python",
   "name": "python",
   "nbconvert_exporter": "python",
   "pygments_lexer": "ipython3",
   "version": "3.9.7"
  },
  "orig_nbformat": 4
 },
 "nbformat": 4,
 "nbformat_minor": 2
}
